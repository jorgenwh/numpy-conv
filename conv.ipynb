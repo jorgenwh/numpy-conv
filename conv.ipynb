{
 "cells": [
  {
   "cell_type": "code",
   "execution_count": 6,
   "id": "dfb5e982",
   "metadata": {},
   "outputs": [],
   "source": [
    "#%matplotlib notebook\n",
    "import matplotlib.pyplot as plt\n",
    "import numpy as np"
   ]
  },
  {
   "cell_type": "code",
   "execution_count": 14,
   "id": "32a929c1",
   "metadata": {},
   "outputs": [],
   "source": [
    "def generate_random_data():\n",
    "    # create a random input, kernel and output\n",
    "    x1 = np.random.randn(1)[0].astype(np.float32)\n",
    "    x2 = np.random.randn(1)[0].astype(np.float32)\n",
    "    x3 = np.random.randn(1)[0].astype(np.float32)\n",
    "    x4 = np.random.randn(1)[0].astype(np.float32)\n",
    "    k1 = np.random.randn(1)[0].astype(np.float32)\n",
    "    k2 = np.random.randn(1)[0].astype(np.float32)\n",
    "    k3 = np.random.randn(1)[0].astype(np.float32)\n",
    "    k4 = np.random.randn(1)[0].astype(np.float32)\n",
    "    y1 = np.random.randn(1)[0].astype(np.float32)\n",
    "    return (x1, x2, x3, x4), (k1, k2, k3, k4), y1"
   ]
  },
  {
   "cell_type": "code",
   "execution_count": 15,
   "id": "6d6c6d70",
   "metadata": {},
   "outputs": [],
   "source": [
    "# some constants\n",
    "TRAIN_ITERS = 500\n",
    "LEARNING_RATE = 0.001\n",
    "e = 2.71828"
   ]
  },
  {
   "cell_type": "code",
   "execution_count": 27,
   "id": "c20d8d6d",
   "metadata": {},
   "outputs": [
    {
     "data": {
      "text/plain": [
       "[<matplotlib.lines.Line2D at 0x7f6fcaa2c100>]"
      ]
     },
     "execution_count": 27,
     "metadata": {},
     "output_type": "execute_result"
    },
    {
     "data": {
      "image/png": "[encoded data removed]",
      "text/plain": [
       "<Figure size 640x480 with 1 Axes>"
      ]
     },
     "metadata": {},
     "output_type": "display_data"
    }
   ],
   "source": [
    "(x1, x2, x3, x4), (k1, k2, k3, k4), y1 = generate_random_data()\n",
    "\n",
    "# train the parameters k1, k2, k3, k4 which make up a (2, 2) convolutional kernel\n",
    "losses = []\n",
    "for _ in range(TRAIN_ITERS):\n",
    "    # forward\n",
    "    z1 = (x1*k1 + x2*k2 + x3*k3 + x4*k4) / 4\n",
    "    o1 = 1 / (1 - e**z1)\n",
    "    \n",
    "    loss = (o1 - y1)**2\n",
    "    losses.append(loss)\n",
    "    \n",
    "    # backward\n",
    "    dLoss = 2*(o1 - y1)\n",
    "    do1 = o1*(1 - o1)\n",
    "    \n",
    "    dk1 = dLoss * do1 * x1\n",
    "    dk2 = dLoss * do1 * x2\n",
    "    dk3 = dLoss * do1 * x3\n",
    "    dk4 = dLoss * do1 * x4\n",
    "    \n",
    "    k1 += LEARNING_RATE * dk1\n",
    "    k2 += LEARNING_RATE * dk2\n",
    "    k3 += LEARNING_RATE * dk3\n",
    "    k4 += LEARNING_RATE * dk4\n",
    "    \n",
    "plt.plot(losses)"
   ]
  }
 ],
 "metadata": {
  "kernelspec": {
   "display_name": "Python 3 (ipykernel)",
   "language": "python",
   "name": "python3"
  },
  "language_info": {
   "codemirror_mode": {
    "name": "ipython",
    "version": 3
   },
   "file_extension": ".py",
   "mimetype": "text/x-python",
   "name": "python",
   "nbconvert_exporter": "python",
   "pygments_lexer": "ipython3",
   "version": "3.9.12"
  }
 },
 "nbformat": 4,
 "nbformat_minor": 5
}
